{
 "cells": [
  {
   "cell_type": "markdown",
   "metadata": {},
   "source": [
    "# Unit 1 - Lab 2"
   ]
  },
  {
   "cell_type": "markdown",
   "metadata": {},
   "source": [
    "Use this notebook to compete each exercise below. Add cells as necessary.\n",
    "\n",
    "1. Use the [MetaWeather API](https://www.metaweather.com/api/) to retrieve weather data for Columbus on January 1, 2018 using the URL [https://www.metaweather.com/api/location/2383660/2018/1/1]`https://www.metaweather.com/api/location/2383660/2018/1/1` with panda's `read_json()` function; here, the value `2383660` in the HTML link is the [WOEID](https://en.wikipedia.org/wiki/WOEID) for Columbus, Ohio.\n",
    "2. Display the API documentation from MetaWeather using pandas `read_html` function to display a description of the columns in the resulting DataFrame.\n",
    "3. Use the `dtypes` function to display the data types of the dataset. Compare the DataFrame results to the API documentation results. Which fields are different? What types of differences might we need to account for in future data cleansing steps?"
   ]
  },
  {
   "cell_type": "code",
   "execution_count": null,
   "metadata": {},
   "outputs": [],
   "source": [
    "import pandas as pd\n",
    "\n",
    "# use pandas to load API data, using API calls to get Columbus, OH, 2018-01-01 data\n",
    "\n",
    "# use read_html to display the MetaWeather API documentation of each field in the dataset\n",
    "\n",
    "# use dtypes to compare data types in the DataFrame to the documentation\n"
   ]
  }
 ],
 "metadata": {
  "kernelspec": {
   "display_name": "Python 3",
   "language": "python",
   "name": "python3"
  },
  "language_info": {
   "codemirror_mode": {
    "name": "ipython",
    "version": 3
   },
   "file_extension": ".py",
   "mimetype": "text/x-python",
   "name": "python",
   "nbconvert_exporter": "python",
   "pygments_lexer": "ipython3",
   "version": "3.6.7"
  }
 },
 "nbformat": 4,
 "nbformat_minor": 2
}
