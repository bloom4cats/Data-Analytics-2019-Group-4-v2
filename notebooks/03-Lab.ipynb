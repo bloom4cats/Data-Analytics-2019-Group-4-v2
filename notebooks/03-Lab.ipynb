{
 "cells": [
  {
   "cell_type": "markdown",
   "metadata": {},
   "source": [
    "# Lab 3\n",
    "\n",
    "We created a set of box plots for the values in the `saleprice` column separated by `condition` from the `df_redux` DataFrame using `sns.boxplot(x=\"saleprice\", y=\"condition\", data=df_redux)`. Prior to that, when working with bar charts, we specified an ordering for the categorical data using the `order` keyword argument. Now review the `landuse` codes using the `value_counts()` method. Determine how to combine similar codes, and then create a new column called `landuse2` containing no more than 20 codes (you can combine rarely used codes in the dataset into a generic category named \"Other\"). Next, modify the box plot so that the `landuse` categories are ordered by median sale price from least to greatest. See the image below for an example of what the plot should resemble.\n",
    "\n",
    "<figure>\n",
    "<img src=\"../images/03-boxplots.png\" alt=\"box plots for sale price by condition\">\n",
    "<figcaption style=\"text-align: center; font-weight: bold\">Lab 1 - Box plots for sale price by condition sorted by median sale price</figcaption>\n",
    "</figure>"
   ]
  },
  {
   "cell_type": "code",
   "execution_count": null,
   "metadata": {},
   "outputs": [],
   "source": []
  },
  {
   "cell_type": "code",
   "execution_count": null,
   "metadata": {},
   "outputs": [],
   "source": []
  }
 ],
 "metadata": {
  "kernelspec": {
   "display_name": "Python 3",
   "language": "python",
   "name": "python3"
  },
  "language_info": {
   "codemirror_mode": {
    "name": "ipython",
    "version": 3
   },
   "file_extension": ".py",
   "mimetype": "text/x-python",
   "name": "python",
   "nbconvert_exporter": "python",
   "pygments_lexer": "ipython3",
   "version": "3.7.3"
  }
 },
 "nbformat": 4,
 "nbformat_minor": 2
}
