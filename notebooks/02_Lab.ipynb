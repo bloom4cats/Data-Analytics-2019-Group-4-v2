{
 "cells": [
  {
   "cell_type": "markdown",
   "metadata": {},
   "source": [
    "# Lab 2\n",
    "\n",
    "Use this notebook to compete each exercise below. Add cells as necessary. \n",
    "\n",
    "1. Road data for Franklin County, which is maintained by the State of Ohio, is available in `./data/02-roads.csv` with a description of columns in `./data/02-roads-description.csv`. Load the data and perform the following tasks:\n",
    "\n",
    "    - Filter the data to include only roads with speed limits of 55 mph or greater\n",
    "    - Drop any columns missing data for every row in the filtered data \n",
    "    - Drop any rows missing data in the filtered data\n",
    "    - Display the first few rows of filtered data\n",
    "    \n",
    "2. Use pandas to retrieve the data from the `pit_df` dataframe that we created at the end of Unit 2 and the Franklin County road data prepared in Step 1, above as two separate DataFrames. Use `merge()` to create a new DataFrame that joins the data in meaningful ways. In order to do this, you will need to consider potential meaningful associations between the two datasets, and how you might use them together to further analyze the combined datasets. To complete this portion of the lab, feel free to create subsets of the dataframes to be merged, and consider modifying certain fields to help you merge the data in meaninful ways. For instance, many dwellings have address data which can be modified to only contain street names that correspond to the Franklin County roads dataset."
   ]
  },
  {
   "cell_type": "code",
   "execution_count": null,
   "metadata": {},
   "outputs": [],
   "source": []
  }
 ],
 "metadata": {
  "kernelspec": {
   "display_name": "Python 3",
   "language": "python",
   "name": "python3"
  },
  "language_info": {
   "codemirror_mode": {
    "name": "ipython",
    "version": 3
   },
   "file_extension": ".py",
   "mimetype": "text/x-python",
   "name": "python",
   "nbconvert_exporter": "python",
   "pygments_lexer": "ipython3",
   "version": "3.7.3"
  }
 },
 "nbformat": 4,
 "nbformat_minor": 2
}
