{
 "cells": [
  {
   "cell_type": "markdown",
   "metadata": {},
   "source": [
    "# Unit 1 - Lab 1"
   ]
  },
  {
   "cell_type": "markdown",
   "metadata": {},
   "source": [
    "Use this notebook to compete each exercise below. Add cells as necessary.\n",
    "\n",
    "Use pandas to extract tabular data from the webpage at [http://testing-ground.scraping.pro/table?products=10&years=10&quarters=4](http://testing-ground.scraping.pro/table?products=10&years=10&quarters=4). Display the content of each of the generated DataFrames. Generally, sites restrict the use of scrapers; [scraping.pro](http://testing-ground.scraping.pro/) provides a set of pages to test web scrapers. After loading and displaying the data notice that there are issues with the DataFrame including `NaN` values - `NaN` is an acronym for 'Not a Number' - and formatting issues. We will address some of these issues in later units."
   ]
  },
  {
   "cell_type": "code",
   "execution_count": 2,
   "metadata": {},
   "outputs": [],
   "source": [
    "import pandas as pd\n",
    "# extract table data from HTML\n",
    "\n",
    "# assign the result set to a dataframe\n",
    "\n",
    "# display the first 20 rows of the dataframe\n"
   ]
  }
 ],
 "metadata": {
  "kernelspec": {
   "display_name": "Python 3",
   "language": "python",
   "name": "python3"
  },
  "language_info": {
   "codemirror_mode": {
    "name": "ipython",
    "version": 3
   },
   "file_extension": ".py",
   "mimetype": "text/x-python",
   "name": "python",
   "nbconvert_exporter": "python",
   "pygments_lexer": "ipython3",
   "version": "3.6.7"
  }
 },
 "nbformat": 4,
 "nbformat_minor": 2
}
