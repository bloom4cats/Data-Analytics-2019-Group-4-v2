{
 "cells": [
  {
   "cell_type": "markdown",
   "metadata": {},
   "source": [
    "# Lab 2\n",
    "\n",
    "Use this notebook to compete each exercise below. Add cells as necessary. \n",
    "\n",
    "1. Road data for Franklin County, which is maintained by the State of Ohio, is available in `./data/02-roads.csv` with a description of columns in `./data/02-roads-description.csv`. Load the data and perform the following tasks:\n",
    "\n",
    "    - Filter the data to include only roads with speed limits of 55 mph or greater\n",
    "    - Drop any columns missing data for every row in the filtered data \n",
    "    - Drop any rows missing data in the filtered data\n",
    "    - Display the first few rows of filtered data\n",
    "    \n",
    "2. Use pandas to retrieve the data from the `pit_df` dataframe that we created at the end of Unit 2 and the Franklin County road data prepared in Step 1, above as two separate DataFrames. Use `merge()` to create a new DataFrame that joins the data in meaningful ways. In order to do this, you will need to consider potential meaningful associations between the two datasets, and how you might use them together to further analyze the combined datasets. To complete this portion of the lab, feel free to create subsets of the dataframes to be merged, and consider modifying certain fields to help you merge the data in meaninful ways. For instance, many dwellings have address data which can be modified to only contain street names that correspond to the Franklin County roads dataset."
   ]
  },
  {
   "cell_type": "code",
   "execution_count": 26,
   "metadata": {},
   "outputs": [
    {
     "data": {
      "text/html": [
       "<div>\n",
       "<style scoped>\n",
       "    .dataframe tbody tr th:only-of-type {\n",
       "        vertical-align: middle;\n",
       "    }\n",
       "\n",
       "    .dataframe tbody tr th {\n",
       "        vertical-align: top;\n",
       "    }\n",
       "\n",
       "    .dataframe thead th {\n",
       "        text-align: right;\n",
       "    }\n",
       "</style>\n",
       "<table border=\"1\" class=\"dataframe\">\n",
       "  <thead>\n",
       "    <tr style=\"text-align: right;\">\n",
       "      <th></th>\n",
       "      <th>Unnamed: 0</th>\n",
       "      <th>DIVIDED_HWY</th>\n",
       "      <th>LANES</th>\n",
       "      <th>MEDIAN_WIDTH</th>\n",
       "      <th>NLFID</th>\n",
       "      <th>ROUTE_NBR</th>\n",
       "      <th>ROUTE_TYPE</th>\n",
       "      <th>SHLD_LT_TOTAL_WIDTH</th>\n",
       "      <th>SHLD_RT_TOTAL_WIDTH</th>\n",
       "      <th>SPEED_LIMIT_NBR</th>\n",
       "      <th>STREET_NAME_TXT</th>\n",
       "      <th>STREET_DIR_SUFFIX</th>\n",
       "      <th>SURFACE_LT_WIDTH</th>\n",
       "      <th>SURFACE_RT_WIDTH</th>\n",
       "    </tr>\n",
       "  </thead>\n",
       "  <tbody>\n",
       "    <tr>\n",
       "      <th>0</th>\n",
       "      <td>267624</td>\n",
       "      <td>N</td>\n",
       "      <td>2.0</td>\n",
       "      <td>NaN</td>\n",
       "      <td>CFRACR00002**C</td>\n",
       "      <td>2</td>\n",
       "      <td>CR</td>\n",
       "      <td>NaN</td>\n",
       "      <td>NaN</td>\n",
       "      <td>NaN</td>\n",
       "      <td>HAYES</td>\n",
       "      <td>NaN</td>\n",
       "      <td>10.0</td>\n",
       "      <td>10.0</td>\n",
       "    </tr>\n",
       "    <tr>\n",
       "      <th>1</th>\n",
       "      <td>267625</td>\n",
       "      <td>N</td>\n",
       "      <td>2.0</td>\n",
       "      <td>NaN</td>\n",
       "      <td>CFRACR00002**C</td>\n",
       "      <td>2</td>\n",
       "      <td>CR</td>\n",
       "      <td>NaN</td>\n",
       "      <td>NaN</td>\n",
       "      <td>NaN</td>\n",
       "      <td>HAYES</td>\n",
       "      <td>NaN</td>\n",
       "      <td>10.0</td>\n",
       "      <td>10.0</td>\n",
       "    </tr>\n",
       "    <tr>\n",
       "      <th>2</th>\n",
       "      <td>267626</td>\n",
       "      <td>N</td>\n",
       "      <td>2.0</td>\n",
       "      <td>NaN</td>\n",
       "      <td>CFRACR00002**C</td>\n",
       "      <td>2</td>\n",
       "      <td>CR</td>\n",
       "      <td>NaN</td>\n",
       "      <td>NaN</td>\n",
       "      <td>NaN</td>\n",
       "      <td>HAYES</td>\n",
       "      <td>NaN</td>\n",
       "      <td>10.0</td>\n",
       "      <td>10.0</td>\n",
       "    </tr>\n",
       "    <tr>\n",
       "      <th>3</th>\n",
       "      <td>267627</td>\n",
       "      <td>N</td>\n",
       "      <td>2.0</td>\n",
       "      <td>NaN</td>\n",
       "      <td>CFRACR00002**C</td>\n",
       "      <td>2</td>\n",
       "      <td>CR</td>\n",
       "      <td>NaN</td>\n",
       "      <td>NaN</td>\n",
       "      <td>NaN</td>\n",
       "      <td>HAYES</td>\n",
       "      <td>NaN</td>\n",
       "      <td>10.0</td>\n",
       "      <td>10.0</td>\n",
       "    </tr>\n",
       "    <tr>\n",
       "      <th>4</th>\n",
       "      <td>267628</td>\n",
       "      <td>N</td>\n",
       "      <td>2.0</td>\n",
       "      <td>NaN</td>\n",
       "      <td>CFRACR00002**C</td>\n",
       "      <td>2</td>\n",
       "      <td>CR</td>\n",
       "      <td>NaN</td>\n",
       "      <td>NaN</td>\n",
       "      <td>NaN</td>\n",
       "      <td>HAYES</td>\n",
       "      <td>NaN</td>\n",
       "      <td>10.0</td>\n",
       "      <td>10.0</td>\n",
       "    </tr>\n",
       "  </tbody>\n",
       "</table>\n",
       "</div>"
      ],
      "text/plain": [
       "   Unnamed: 0 DIVIDED_HWY  LANES  MEDIAN_WIDTH           NLFID  ROUTE_NBR  \\\n",
       "0      267624           N    2.0           NaN  CFRACR00002**C          2   \n",
       "1      267625           N    2.0           NaN  CFRACR00002**C          2   \n",
       "2      267626           N    2.0           NaN  CFRACR00002**C          2   \n",
       "3      267627           N    2.0           NaN  CFRACR00002**C          2   \n",
       "4      267628           N    2.0           NaN  CFRACR00002**C          2   \n",
       "\n",
       "  ROUTE_TYPE  SHLD_LT_TOTAL_WIDTH  SHLD_RT_TOTAL_WIDTH  SPEED_LIMIT_NBR  \\\n",
       "0         CR                  NaN                  NaN              NaN   \n",
       "1         CR                  NaN                  NaN              NaN   \n",
       "2         CR                  NaN                  NaN              NaN   \n",
       "3         CR                  NaN                  NaN              NaN   \n",
       "4         CR                  NaN                  NaN              NaN   \n",
       "\n",
       "  STREET_NAME_TXT STREET_DIR_SUFFIX  SURFACE_LT_WIDTH  SURFACE_RT_WIDTH  \n",
       "0           HAYES               NaN              10.0              10.0  \n",
       "1           HAYES               NaN              10.0              10.0  \n",
       "2           HAYES               NaN              10.0              10.0  \n",
       "3           HAYES               NaN              10.0              10.0  \n",
       "4           HAYES               NaN              10.0              10.0  "
      ]
     },
     "execution_count": 26,
     "metadata": {},
     "output_type": "execute_result"
    }
   ],
   "source": [
    "import pandas as pd\n",
    "\n",
    "# load full dataset for initial analysis\n",
    "franklin_road = pd.read_csv('../data/02-roads.csv')\n",
    "# validate the file\n",
    "franklin_road.head()"
   ]
  },
  {
   "cell_type": "code",
   "execution_count": 27,
   "metadata": {},
   "outputs": [
    {
     "data": {
      "text/plain": [
       "0.0     1824\n",
       "35.0    1617\n",
       "45.0     652\n",
       "65.0     574\n",
       "25.0     565\n",
       "50.0     232\n",
       "55.0     221\n",
       "40.0     144\n",
       "30.0      61\n",
       "60.0      31\n",
       "70.0       8\n",
       "20.0       3\n",
       "Name: SPEED_LIMIT_NBR, dtype: int64"
      ]
     },
     "execution_count": 27,
     "metadata": {},
     "output_type": "execute_result"
    }
   ],
   "source": [
    "# Look at what the values are for SPEED_LIMIT_NBR\n",
    "franklin_road.SPEED_LIMIT_NBR.value_counts()"
   ]
  },
  {
   "cell_type": "code",
   "execution_count": 28,
   "metadata": {},
   "outputs": [
    {
     "data": {
      "text/plain": [
       "5932"
      ]
     },
     "execution_count": 28,
     "metadata": {},
     "output_type": "execute_result"
    }
   ],
   "source": [
    "#  What is the total number of records with speed limit > 0?\n",
    "len(franklin_road[franklin_road.SPEED_LIMIT_NBR >= 0.0])"
   ]
  },
  {
   "cell_type": "code",
   "execution_count": 29,
   "metadata": {},
   "outputs": [
    {
     "data": {
      "text/plain": [
       "834"
      ]
     },
     "execution_count": 29,
     "metadata": {},
     "output_type": "execute_result"
    }
   ],
   "source": [
    "# Then, get a count of rows where SPEED_LIMIT_NBR >=55\n",
    "len(franklin_road[franklin_road.SPEED_LIMIT_NBR >= 55.0])"
   ]
  },
  {
   "cell_type": "markdown",
   "metadata": {},
   "source": [
    "So, after we filter the data to include only roads with 55 and greater, we should end up with 834 rows of data!"
   ]
  },
  {
   "cell_type": "code",
   "execution_count": 30,
   "metadata": {},
   "outputs": [],
   "source": [
    "franklin_road = franklin_road[franklin_road.SPEED_LIMIT_NBR >= 55.0]"
   ]
  },
  {
   "cell_type": "code",
   "execution_count": 31,
   "metadata": {},
   "outputs": [
    {
     "data": {
      "text/plain": [
       "834"
      ]
     },
     "execution_count": 31,
     "metadata": {},
     "output_type": "execute_result"
    }
   ],
   "source": [
    "len(franklin_road[franklin_road.SPEED_LIMIT_NBR >= 0.0])"
   ]
  },
  {
   "cell_type": "markdown",
   "metadata": {},
   "source": [
    "Yay!  Now we need to identify columns that have missing data for every row and drop those columns\n",
    "-First let's see what all the columns are\n",
    "-Then we will look at what the unique values for each column\n",
    "-If any column has unique values that are just empty or NaN, we will delete\n",
    "**Validate this approach with prof.\n"
   ]
  },
  {
   "cell_type": "code",
   "execution_count": 32,
   "metadata": {},
   "outputs": [
    {
     "data": {
      "text/plain": [
       "['Unnamed: 0',\n",
       " 'DIVIDED_HWY',\n",
       " 'LANES',\n",
       " 'MEDIAN_WIDTH',\n",
       " 'NLFID',\n",
       " 'ROUTE_NBR',\n",
       " 'ROUTE_TYPE',\n",
       " 'SHLD_LT_TOTAL_WIDTH',\n",
       " 'SHLD_RT_TOTAL_WIDTH',\n",
       " 'SPEED_LIMIT_NBR',\n",
       " 'STREET_NAME_TXT',\n",
       " 'STREET_DIR_SUFFIX',\n",
       " 'SURFACE_LT_WIDTH',\n",
       " 'SURFACE_RT_WIDTH']"
      ]
     },
     "execution_count": 32,
     "metadata": {},
     "output_type": "execute_result"
    }
   ],
   "source": [
    "# show a list of all the columns\n",
    "franklin_road.columns.tolist()"
   ]
  },
  {
   "cell_type": "code",
   "execution_count": 33,
   "metadata": {},
   "outputs": [
    {
     "data": {
      "text/html": [
       "<div>\n",
       "<style scoped>\n",
       "    .dataframe tbody tr th:only-of-type {\n",
       "        vertical-align: middle;\n",
       "    }\n",
       "\n",
       "    .dataframe tbody tr th {\n",
       "        vertical-align: top;\n",
       "    }\n",
       "\n",
       "    .dataframe thead th {\n",
       "        text-align: right;\n",
       "    }\n",
       "</style>\n",
       "<table border=\"1\" class=\"dataframe\">\n",
       "  <thead>\n",
       "    <tr style=\"text-align: right;\">\n",
       "      <th></th>\n",
       "      <th>Name</th>\n",
       "      <th>Table Column Name</th>\n",
       "      <th>Description</th>\n",
       "      <th>Type</th>\n",
       "    </tr>\n",
       "  </thead>\n",
       "  <tbody>\n",
       "    <tr>\n",
       "      <th>0</th>\n",
       "      <td>Divided Highway</td>\n",
       "      <td>DIVIDED_HWY</td>\n",
       "      <td>Indicates whether a roadway section is part of...</td>\n",
       "      <td>text</td>\n",
       "    </tr>\n",
       "    <tr>\n",
       "      <th>1</th>\n",
       "      <td>Lanes</td>\n",
       "      <td>LANES</td>\n",
       "      <td>Number of lanes in both directions carrying th...</td>\n",
       "      <td>long int</td>\n",
       "    </tr>\n",
       "    <tr>\n",
       "      <th>2</th>\n",
       "      <td>Median Width</td>\n",
       "      <td>MEDIAN_WIDTH</td>\n",
       "      <td>Existing median width, including inside shoulders</td>\n",
       "      <td>long int</td>\n",
       "    </tr>\n",
       "    <tr>\n",
       "      <th>3</th>\n",
       "      <td>NLFID</td>\n",
       "      <td>NLFID</td>\n",
       "      <td>Primary key field that allows ODOT’s graphic r...</td>\n",
       "      <td>text</td>\n",
       "    </tr>\n",
       "    <tr>\n",
       "      <th>4</th>\n",
       "      <td>Route Number</td>\n",
       "      <td>ROUTE_NBR</td>\n",
       "      <td>Route number associated with the section of th...</td>\n",
       "      <td>text</td>\n",
       "    </tr>\n",
       "    <tr>\n",
       "      <th>5</th>\n",
       "      <td>Route Type</td>\n",
       "      <td>ROUTE_TYPE</td>\n",
       "      <td>Two letter code indicating the basic transport...</td>\n",
       "      <td>text</td>\n",
       "    </tr>\n",
       "    <tr>\n",
       "      <th>6</th>\n",
       "      <td>Shld Lt Total Width</td>\n",
       "      <td>SHLD_LT_TOTAL_WIDTH</td>\n",
       "      <td>Width of left (outside) shoulder, including bo...</td>\n",
       "      <td>long int</td>\n",
       "    </tr>\n",
       "    <tr>\n",
       "      <th>7</th>\n",
       "      <td>Shld Rt Total Width</td>\n",
       "      <td>SHLD_RT_TOTAL_WIDTH</td>\n",
       "      <td>Width of the paved portion of the right (outsi...</td>\n",
       "      <td>long int</td>\n",
       "    </tr>\n",
       "    <tr>\n",
       "      <th>8</th>\n",
       "      <td>Speed Limit Number</td>\n",
       "      <td>SPEED_LIMIT_NBR</td>\n",
       "      <td>Speed limit associated with the section of roa...</td>\n",
       "      <td>long int</td>\n",
       "    </tr>\n",
       "    <tr>\n",
       "      <th>9</th>\n",
       "      <td>Street Direction Suffix</td>\n",
       "      <td>STREET_DIR_SUFFIX</td>\n",
       "      <td>Differentiates named roadway segments based on...</td>\n",
       "      <td>text</td>\n",
       "    </tr>\n",
       "    <tr>\n",
       "      <th>10</th>\n",
       "      <td>Street Name Text</td>\n",
       "      <td>STREET_NAME_TXT</td>\n",
       "      <td>Street name</td>\n",
       "      <td>text</td>\n",
       "    </tr>\n",
       "    <tr>\n",
       "      <th>11</th>\n",
       "      <td>Surface Left Width</td>\n",
       "      <td>SURFACE_LT_WIDTH</td>\n",
       "      <td>Surface width on the left side of the roadway</td>\n",
       "      <td>long int</td>\n",
       "    </tr>\n",
       "    <tr>\n",
       "      <th>12</th>\n",
       "      <td>Surface Right Width</td>\n",
       "      <td>SURFACE_RT_WIDTH</td>\n",
       "      <td>Surface width on the right side of the roadway</td>\n",
       "      <td>long int</td>\n",
       "    </tr>\n",
       "  </tbody>\n",
       "</table>\n",
       "</div>"
      ],
      "text/plain": [
       "                         Name    Table Column Name  \\\n",
       "0             Divided Highway          DIVIDED_HWY   \n",
       "1                       Lanes                LANES   \n",
       "2                Median Width         MEDIAN_WIDTH   \n",
       "3   NLFID                                    NLFID   \n",
       "4                Route Number            ROUTE_NBR   \n",
       "5                  Route Type           ROUTE_TYPE   \n",
       "6         Shld Lt Total Width  SHLD_LT_TOTAL_WIDTH   \n",
       "7         Shld Rt Total Width  SHLD_RT_TOTAL_WIDTH   \n",
       "8          Speed Limit Number      SPEED_LIMIT_NBR   \n",
       "9     Street Direction Suffix    STREET_DIR_SUFFIX   \n",
       "10           Street Name Text      STREET_NAME_TXT   \n",
       "11         Surface Left Width     SURFACE_LT_WIDTH   \n",
       "12        Surface Right Width     SURFACE_RT_WIDTH   \n",
       "\n",
       "                                          Description      Type  \n",
       "0   Indicates whether a roadway section is part of...      text  \n",
       "1   Number of lanes in both directions carrying th...  long int  \n",
       "2   Existing median width, including inside shoulders  long int  \n",
       "3   Primary key field that allows ODOT’s graphic r...      text  \n",
       "4   Route number associated with the section of th...      text  \n",
       "5   Two letter code indicating the basic transport...      text  \n",
       "6   Width of left (outside) shoulder, including bo...  long int  \n",
       "7   Width of the paved portion of the right (outsi...  long int  \n",
       "8   Speed limit associated with the section of roa...  long int  \n",
       "9   Differentiates named roadway segments based on...      text  \n",
       "10                                        Street name      text  \n",
       "11      Surface width on the left side of the roadway  long int  \n",
       "12     Surface width on the right side of the roadway  long int  "
      ]
     },
     "execution_count": 33,
     "metadata": {},
     "output_type": "execute_result"
    }
   ],
   "source": [
    "# Look at documentation / description\n",
    "franklin_road_desc = pd.read_csv('../data/02-roads-description.csv')\n",
    "# validate the file\n",
    "franklin_road_desc.head(20)"
   ]
  },
  {
   "cell_type": "markdown",
   "metadata": {},
   "source": [
    "For each column, let's see what the unique values are"
   ]
  },
  {
   "cell_type": "code",
   "execution_count": 34,
   "metadata": {},
   "outputs": [
    {
     "data": {
      "text/plain": [
       "array(['N', 'Y'], dtype=object)"
      ]
     },
     "execution_count": 34,
     "metadata": {},
     "output_type": "execute_result"
    }
   ],
   "source": [
    "franklin_road.DIVIDED_HWY.unique()"
   ]
  },
  {
   "cell_type": "code",
   "execution_count": 35,
   "metadata": {},
   "outputs": [
    {
     "data": {
      "text/plain": [
       "array([ 2.,  4.,  6.,  8.,  7.,  5., 10.,  9.,  3.])"
      ]
     },
     "execution_count": 35,
     "metadata": {},
     "output_type": "execute_result"
    }
   ],
   "source": [
    "franklin_road.LANES.unique()"
   ]
  },
  {
   "cell_type": "code",
   "execution_count": 36,
   "metadata": {},
   "outputs": [
    {
     "data": {
      "text/plain": [
       "array([      nan, 5.000e+01, 4.400e+01, 4.000e+00, 9.900e+01, 3.000e+00,\n",
       "       3.000e+01, 3.200e+01, 3.600e+01, 4.000e+01, 7.600e+01, 8.400e+01,\n",
       "       6.000e+01, 3.400e+01, 9.999e+03, 5.000e+00, 1.200e+01, 5.200e+01,\n",
       "       4.200e+01, 6.000e+00, 2.000e+01, 7.200e+01, 4.800e+01, 2.200e+01,\n",
       "       1.000e+02, 2.700e+01, 8.000e+00])"
      ]
     },
     "execution_count": 36,
     "metadata": {},
     "output_type": "execute_result"
    }
   ],
   "source": [
    "franklin_road.MEDIAN_WIDTH.unique()"
   ]
  },
  {
   "cell_type": "code",
   "execution_count": 37,
   "metadata": {},
   "outputs": [
    {
     "data": {
      "text/plain": [
       "array(['CFRACR00003**C', 'CFRACR00068**C', 'CFRACR00122**C',\n",
       "       'CFRACR00235**C', 'CFRACR00262**C', 'SFRAIR00070**C',\n",
       "       'SFRAIR00071**C', 'SFRAIR00270**C', 'SFRAIR00670**C',\n",
       "       'SFRASR00104**C', 'SFRASR00161**C', 'SFRASR00315**C',\n",
       "       'SFRASR00317**C', 'SFRASR00605**C', 'SFRASR00665**C',\n",
       "       'SFRASR00674**C', 'SFRAUS00033*TC', 'SFRAUS00033**C',\n",
       "       'SFRAUS00040**C', 'SFRAUS00062**C'], dtype=object)"
      ]
     },
     "execution_count": 37,
     "metadata": {},
     "output_type": "execute_result"
    }
   ],
   "source": [
    "franklin_road.NLFID.unique()"
   ]
  },
  {
   "cell_type": "code",
   "execution_count": 38,
   "metadata": {},
   "outputs": [
    {
     "data": {
      "text/plain": [
       "array([  3,  68, 122, 235, 262,  70,  71, 270, 670, 104, 161, 315, 317,\n",
       "       605, 665, 674,  33,  40,  62])"
      ]
     },
     "execution_count": 38,
     "metadata": {},
     "output_type": "execute_result"
    }
   ],
   "source": [
    "franklin_road.ROUTE_NBR.unique()"
   ]
  },
  {
   "cell_type": "code",
   "execution_count": 39,
   "metadata": {},
   "outputs": [
    {
     "data": {
      "text/plain": [
       "array(['CR', 'IR', 'SR', 'US'], dtype=object)"
      ]
     },
     "execution_count": 39,
     "metadata": {},
     "output_type": "execute_result"
    }
   ],
   "source": [
    "franklin_road.ROUTE_TYPE.unique()"
   ]
  },
  {
   "cell_type": "code",
   "execution_count": 40,
   "metadata": {},
   "outputs": [
    {
     "data": {
      "text/plain": [
       "array([nan,  4., 11.,  6.,  7., 10., 14., 12.,  5.,  8., 16., 13., 17.,\n",
       "       15.,  0.,  3.,  1.])"
      ]
     },
     "execution_count": 40,
     "metadata": {},
     "output_type": "execute_result"
    }
   ],
   "source": [
    "franklin_road.SHLD_LT_TOTAL_WIDTH.unique()"
   ]
  },
  {
   "cell_type": "code",
   "execution_count": 41,
   "metadata": {},
   "outputs": [
    {
     "data": {
      "text/plain": [
       "array([nan, 10.,  8., 12.,  4.,  9.,  6.,  2.,  3.])"
      ]
     },
     "execution_count": 41,
     "metadata": {},
     "output_type": "execute_result"
    }
   ],
   "source": [
    "franklin_road.SHLD_RT_TOTAL_WIDTH.unique()"
   ]
  },
  {
   "cell_type": "code",
   "execution_count": 42,
   "metadata": {},
   "outputs": [
    {
     "data": {
      "text/plain": [
       "array(['HILLIARD-ROME', 'GODOWN', 'ALUM CREEK', 'ROHR', 'HOOVER', 'I-70',\n",
       "       'I-71', 'JACK NICKLAUS', 'I-670', 'RAMP E', 'JACKSON',\n",
       "       'JAMES WAGNER MEMORIAL', 'RAMP C', 'DUBLIN-PLAIN CITY',\n",
       "       'DUBLIN-GRANVILLE', 'NEW ALBANY', 'MOODY-JACKSON',\n",
       "       'LONDON-GROVEPORT', 'NEW ALBANY-CONDIT', 'WINCHESTER SOUTHERN',\n",
       "       'LITHOPOLIS', 'US-33T', 'COLUMBUS-MARYSVILLE', 'BRIDGE',\n",
       "       'COLUMBUS-LANCASTER', 'NATIONAL', 'HARRISBURG', 'RAMP O', 'US-62',\n",
       "       'JOHNSTOWN'], dtype=object)"
      ]
     },
     "execution_count": 42,
     "metadata": {},
     "output_type": "execute_result"
    }
   ],
   "source": [
    "franklin_road.STREET_NAME_TXT.unique()"
   ]
  },
  {
   "cell_type": "code",
   "execution_count": 43,
   "metadata": {},
   "outputs": [
    {
     "data": {
      "text/plain": [
       "array([nan], dtype=object)"
      ]
     },
     "execution_count": 43,
     "metadata": {},
     "output_type": "execute_result"
    }
   ],
   "source": [
    "franklin_road.STREET_DIR_SUFFIX.unique()"
   ]
  },
  {
   "cell_type": "markdown",
   "metadata": {},
   "source": [
    "NOTE:  STREET_DIR_SUFFIX has only NaN, so we will drop that column once we are done examining each column"
   ]
  },
  {
   "cell_type": "code",
   "execution_count": 44,
   "metadata": {},
   "outputs": [
    {
     "data": {
      "text/plain": [
       "array([10., 13., 24., 36.,  9., 48., 12., 16., 72., 60., 20., 22., 11.,\n",
       "       35., 18., 49.])"
      ]
     },
     "execution_count": 44,
     "metadata": {},
     "output_type": "execute_result"
    }
   ],
   "source": [
    "franklin_road.SURFACE_LT_WIDTH.unique()"
   ]
  },
  {
   "cell_type": "code",
   "execution_count": 45,
   "metadata": {},
   "outputs": [
    {
     "data": {
      "text/plain": [
       "array([10., 13., 24., 36.,  9., 48., 60., 16., 72., 12., 43.,  8., 20.,\n",
       "        4.,  2., 11., 18., 35.])"
      ]
     },
     "execution_count": 45,
     "metadata": {},
     "output_type": "execute_result"
    }
   ],
   "source": [
    "franklin_road.SURFACE_RT_WIDTH.unique()"
   ]
  },
  {
   "cell_type": "code",
   "execution_count": 60,
   "metadata": {},
   "outputs": [],
   "source": [
    "# Now lets drop the STREET_DIR_SUFFIX\n",
    "franklin_road.drop(['STREET_DIR_SUFFIX'], axis=1, inplace=True)"
   ]
  },
  {
   "cell_type": "markdown",
   "metadata": {},
   "source": [
    "Now it is time to drop any rows with any missing \n",
    "It appears that the following columns have missing data based on our look at unique values:\n",
    "    MEDIAN_WIDTH\n",
    "    SHLD_LT_TOTAL_WIDTH\n",
    "    SHLD_RT_TOTAL_WIDTH"
   ]
  },
  {
   "cell_type": "code",
   "execution_count": 46,
   "metadata": {},
   "outputs": [
    {
     "data": {
      "text/plain": [
       "834"
      ]
     },
     "execution_count": 46,
     "metadata": {},
     "output_type": "execute_result"
    }
   ],
   "source": [
    "# Let's look at the total length of franklin road again\n",
    "len(franklin_road)\n"
   ]
  },
  {
   "cell_type": "code",
   "execution_count": 47,
   "metadata": {},
   "outputs": [
    {
     "data": {
      "text/plain": [
       "124"
      ]
     },
     "execution_count": 47,
     "metadata": {},
     "output_type": "execute_result"
    }
   ],
   "source": [
    "# 834\n",
    "# Now, let's see how many rows of data have MEDIAN_WIDTH = NaN\n",
    "franklin_road.MEDIAN_WIDTH.isna().sum()"
   ]
  },
  {
   "cell_type": "code",
   "execution_count": 48,
   "metadata": {},
   "outputs": [],
   "source": [
    "# 124\n",
    "# So let's get rid of those and recount our rows\n",
    "# Expect it to be 834 - 124 = 710\n",
    "# Exclude rows with null value in MEDIAN_WIDTH\n",
    "franklin_road = franklin_road[franklin_road.MEDIAN_WIDTH.notna()]\n",
    "\n"
   ]
  },
  {
   "cell_type": "code",
   "execution_count": 50,
   "metadata": {},
   "outputs": [
    {
     "data": {
      "text/plain": [
       "710"
      ]
     },
     "execution_count": 50,
     "metadata": {},
     "output_type": "execute_result"
    }
   ],
   "source": [
    "len(franklin_road)"
   ]
  },
  {
   "cell_type": "code",
   "execution_count": 51,
   "metadata": {},
   "outputs": [
    {
     "data": {
      "text/plain": [
       "7"
      ]
     },
     "execution_count": 51,
     "metadata": {},
     "output_type": "execute_result"
    }
   ],
   "source": [
    "#  Great, verified 710!\n",
    "#  Now we will do the same with SHLD_LT_TOTAL_WIDTH\n",
    "#  See how many rows of data have SHLD_LT_TOTAL_WIDTH = NaN\n",
    "franklin_road.SHLD_LT_TOTAL_WIDTH.isna().sum()"
   ]
  },
  {
   "cell_type": "code",
   "execution_count": 52,
   "metadata": {},
   "outputs": [],
   "source": [
    "# 7\n",
    "# So let's get rid of those and recount our rows\n",
    "# Expect it to be 710 - 7 = 703\n",
    "# Exclude rows with null value in SHLD_LT_TOTAL_WIDTH\n",
    "franklin_road = franklin_road[franklin_road.SHLD_LT_TOTAL_WIDTH.notna()]\n"
   ]
  },
  {
   "cell_type": "code",
   "execution_count": 53,
   "metadata": {},
   "outputs": [
    {
     "data": {
      "text/plain": [
       "703"
      ]
     },
     "execution_count": 53,
     "metadata": {},
     "output_type": "execute_result"
    }
   ],
   "source": [
    "len(franklin_road)"
   ]
  },
  {
   "cell_type": "code",
   "execution_count": 54,
   "metadata": {},
   "outputs": [
    {
     "data": {
      "text/plain": [
       "0"
      ]
     },
     "execution_count": 54,
     "metadata": {},
     "output_type": "execute_result"
    }
   ],
   "source": [
    "# 703 verified\n",
    "#  Now we will do the same with SHLD_RT_TOTAL_WIDTH\n",
    "#  See how many rows of data have SHLD_RT_TOTAL_WIDTH = NaN\n",
    "franklin_road.SHLD_RT_TOTAL_WIDTH.isna().sum()"
   ]
  },
  {
   "cell_type": "code",
   "execution_count": 55,
   "metadata": {},
   "outputs": [
    {
     "data": {
      "text/plain": [
       "array([ 4., 11.,  6.,  7., 10., 14., 12.,  5.,  8., 16., 13., 17., 15.,\n",
       "        0.,  3.,  1.])"
      ]
     },
     "execution_count": 55,
     "metadata": {},
     "output_type": "execute_result"
    }
   ],
   "source": [
    "# 0?  Let's look at the values again?\n",
    "franklin_road.SHLD_LT_TOTAL_WIDTH.unique()\n",
    "# len(franklin_road)"
   ]
  },
  {
   "cell_type": "code",
   "execution_count": 56,
   "metadata": {},
   "outputs": [
    {
     "data": {
      "text/plain": [
       "array([10.,  8., 12.,  4.,  9.,  3.])"
      ]
     },
     "execution_count": 56,
     "metadata": {},
     "output_type": "execute_result"
    }
   ],
   "source": [
    "# Hmm...first time I ran it was 0, but we will assume that the removal of prior rows with NaN fields took care of this\n",
    "# We will recheck SHLD_RT_TOTAL_WIDTH \n",
    "franklin_road.SHLD_RT_TOTAL_WIDTH.unique()"
   ]
  },
  {
   "cell_type": "code",
   "execution_count": 61,
   "metadata": {},
   "outputs": [
    {
     "data": {
      "text/html": [
       "<div>\n",
       "<style scoped>\n",
       "    .dataframe tbody tr th:only-of-type {\n",
       "        vertical-align: middle;\n",
       "    }\n",
       "\n",
       "    .dataframe tbody tr th {\n",
       "        vertical-align: top;\n",
       "    }\n",
       "\n",
       "    .dataframe thead th {\n",
       "        text-align: right;\n",
       "    }\n",
       "</style>\n",
       "<table border=\"1\" class=\"dataframe\">\n",
       "  <thead>\n",
       "    <tr style=\"text-align: right;\">\n",
       "      <th></th>\n",
       "      <th>Unnamed: 0</th>\n",
       "      <th>DIVIDED_HWY</th>\n",
       "      <th>LANES</th>\n",
       "      <th>MEDIAN_WIDTH</th>\n",
       "      <th>NLFID</th>\n",
       "      <th>ROUTE_NBR</th>\n",
       "      <th>ROUTE_TYPE</th>\n",
       "      <th>SHLD_LT_TOTAL_WIDTH</th>\n",
       "      <th>SHLD_RT_TOTAL_WIDTH</th>\n",
       "      <th>SPEED_LIMIT_NBR</th>\n",
       "      <th>STREET_NAME_TXT</th>\n",
       "      <th>SURFACE_LT_WIDTH</th>\n",
       "      <th>SURFACE_RT_WIDTH</th>\n",
       "    </tr>\n",
       "  </thead>\n",
       "  <tbody>\n",
       "    <tr>\n",
       "      <th>26997</th>\n",
       "      <td>294621</td>\n",
       "      <td>Y</td>\n",
       "      <td>6.0</td>\n",
       "      <td>50.0</td>\n",
       "      <td>SFRAIR00070**C</td>\n",
       "      <td>70</td>\n",
       "      <td>IR</td>\n",
       "      <td>4.0</td>\n",
       "      <td>10.0</td>\n",
       "      <td>65.0</td>\n",
       "      <td>I-70</td>\n",
       "      <td>36.0</td>\n",
       "      <td>36.0</td>\n",
       "    </tr>\n",
       "    <tr>\n",
       "      <th>26998</th>\n",
       "      <td>294622</td>\n",
       "      <td>Y</td>\n",
       "      <td>6.0</td>\n",
       "      <td>50.0</td>\n",
       "      <td>SFRAIR00070**C</td>\n",
       "      <td>70</td>\n",
       "      <td>IR</td>\n",
       "      <td>4.0</td>\n",
       "      <td>10.0</td>\n",
       "      <td>65.0</td>\n",
       "      <td>I-70</td>\n",
       "      <td>36.0</td>\n",
       "      <td>36.0</td>\n",
       "    </tr>\n",
       "    <tr>\n",
       "      <th>26999</th>\n",
       "      <td>294623</td>\n",
       "      <td>Y</td>\n",
       "      <td>6.0</td>\n",
       "      <td>50.0</td>\n",
       "      <td>SFRAIR00070**C</td>\n",
       "      <td>70</td>\n",
       "      <td>IR</td>\n",
       "      <td>4.0</td>\n",
       "      <td>10.0</td>\n",
       "      <td>65.0</td>\n",
       "      <td>I-70</td>\n",
       "      <td>36.0</td>\n",
       "      <td>36.0</td>\n",
       "    </tr>\n",
       "    <tr>\n",
       "      <th>27000</th>\n",
       "      <td>294624</td>\n",
       "      <td>Y</td>\n",
       "      <td>6.0</td>\n",
       "      <td>50.0</td>\n",
       "      <td>SFRAIR00070**C</td>\n",
       "      <td>70</td>\n",
       "      <td>IR</td>\n",
       "      <td>4.0</td>\n",
       "      <td>10.0</td>\n",
       "      <td>65.0</td>\n",
       "      <td>I-70</td>\n",
       "      <td>36.0</td>\n",
       "      <td>36.0</td>\n",
       "    </tr>\n",
       "    <tr>\n",
       "      <th>27001</th>\n",
       "      <td>294625</td>\n",
       "      <td>Y</td>\n",
       "      <td>6.0</td>\n",
       "      <td>44.0</td>\n",
       "      <td>SFRAIR00070**C</td>\n",
       "      <td>70</td>\n",
       "      <td>IR</td>\n",
       "      <td>4.0</td>\n",
       "      <td>10.0</td>\n",
       "      <td>65.0</td>\n",
       "      <td>I-70</td>\n",
       "      <td>36.0</td>\n",
       "      <td>36.0</td>\n",
       "    </tr>\n",
       "  </tbody>\n",
       "</table>\n",
       "</div>"
      ],
      "text/plain": [
       "       Unnamed: 0 DIVIDED_HWY  LANES  MEDIAN_WIDTH           NLFID  ROUTE_NBR  \\\n",
       "26997      294621           Y    6.0          50.0  SFRAIR00070**C         70   \n",
       "26998      294622           Y    6.0          50.0  SFRAIR00070**C         70   \n",
       "26999      294623           Y    6.0          50.0  SFRAIR00070**C         70   \n",
       "27000      294624           Y    6.0          50.0  SFRAIR00070**C         70   \n",
       "27001      294625           Y    6.0          44.0  SFRAIR00070**C         70   \n",
       "\n",
       "      ROUTE_TYPE  SHLD_LT_TOTAL_WIDTH  SHLD_RT_TOTAL_WIDTH  SPEED_LIMIT_NBR  \\\n",
       "26997         IR                  4.0                 10.0             65.0   \n",
       "26998         IR                  4.0                 10.0             65.0   \n",
       "26999         IR                  4.0                 10.0             65.0   \n",
       "27000         IR                  4.0                 10.0             65.0   \n",
       "27001         IR                  4.0                 10.0             65.0   \n",
       "\n",
       "      STREET_NAME_TXT  SURFACE_LT_WIDTH  SURFACE_RT_WIDTH  \n",
       "26997            I-70              36.0              36.0  \n",
       "26998            I-70              36.0              36.0  \n",
       "26999            I-70              36.0              36.0  \n",
       "27000            I-70              36.0              36.0  \n",
       "27001            I-70              36.0              36.0  "
      ]
     },
     "execution_count": 61,
     "metadata": {},
     "output_type": "execute_result"
    }
   ],
   "source": [
    "# display the first few rows of data\n",
    "franklin_road.head()"
   ]
  },
  {
   "cell_type": "code",
   "execution_count": null,
   "metadata": {},
   "outputs": [],
   "source": []
  }
 ],
 "metadata": {
  "kernelspec": {
   "display_name": "Python 3",
   "language": "python",
   "name": "python3"
  },
  "language_info": {
   "codemirror_mode": {
    "name": "ipython",
    "version": 3
   },
   "file_extension": ".py",
   "mimetype": "text/x-python",
   "name": "python",
   "nbconvert_exporter": "python",
   "pygments_lexer": "ipython3",
   "version": "3.7.3"
  }
 },
 "nbformat": 4,
 "nbformat_minor": 2
}
